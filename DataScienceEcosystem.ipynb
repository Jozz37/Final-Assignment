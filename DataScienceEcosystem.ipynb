{
 "cells": [
  {
   "cell_type": "markdown",
   "id": "677990e0",
   "metadata": {},
   "source": [
    "# Data Science Tools and Ecosystem"
   ]
  },
  {
   "cell_type": "markdown",
   "id": "509ba05b",
   "metadata": {},
   "source": [
    "In this notebook, Data Science Tools and Ecosystem are summarized."
   ]
  },
  {
   "cell_type": "markdown",
   "id": "1bc3e03e",
   "metadata": {},
   "source": [
    "**Objectives:**\n",
    "- Popular DS languages\n",
    "- Popular DS libraries\n",
    "- Creation of Ordered, Unordered lists and Tables\n",
    "- Creation of Markdown cells\n",
    "- Creation of Code Cells using math operations such as Addition and Division"
   ]
  },
  {
   "cell_type": "markdown",
   "id": "6874e37f",
   "metadata": {},
   "source": [
    "Some of the popular languages that Data Scientists use are:\n",
    "1. Python\n",
    "2. R\n",
    "3. SQL\n",
    "4. Scala"
   ]
  },
  {
   "cell_type": "markdown",
   "id": "28e6dc7c",
   "metadata": {},
   "source": [
    "Some of the commonly used libraries used by Data Scientists include (**I have no idea what means create an overview line to the  cell and add below the line**):\n",
    "1. Pandas\n",
    "2. Matplotlib\n",
    "3. Scikit\n",
    "4. TensorFLow"
   ]
  },
  {
   "cell_type": "markdown",
   "id": "60e47727",
   "metadata": {},
   "source": [
    "|Data Science Tools|\n",
    "|-|\n",
    "|Jupyter|\n",
    "|Apache Zeppelin|\n",
    "|R Studio|\n"
   ]
  },
  {
   "cell_type": "markdown",
   "id": "6df4a6e0",
   "metadata": {},
   "source": [
    "### Below are a few examples of evaluating arithmetic expressions in Python"
   ]
  },
  {
   "cell_type": "code",
   "execution_count": 5,
   "id": "3e166203",
   "metadata": {},
   "outputs": [
    {
     "data": {
      "text/plain": [
       "17"
      ]
     },
     "execution_count": 5,
     "metadata": {},
     "output_type": "execute_result"
    }
   ],
   "source": [
    "#This a simple arithmetic expression to mutiply then add integers\n",
    "\n",
    "(3*4)+5"
   ]
  },
  {
   "cell_type": "code",
   "execution_count": 8,
   "id": "de45bcf7",
   "metadata": {},
   "outputs": [
    {
     "data": {
      "text/plain": [
       "3.33"
      ]
     },
     "execution_count": 8,
     "metadata": {},
     "output_type": "execute_result"
    }
   ],
   "source": [
    "#This will convert 200 minutes to hours by diving by 60\n",
    "\n",
    "round (200/60, 2)"
   ]
  },
  {
   "cell_type": "markdown",
   "id": "426b8d8d",
   "metadata": {},
   "source": [
    "## Author: Ilya Denisov"
   ]
  },
  {
   "cell_type": "code",
   "execution_count": null,
   "id": "394b1f5f",
   "metadata": {},
   "outputs": [],
   "source": []
  }
 ],
 "metadata": {
  "kernelspec": {
   "display_name": "Python 3 (ipykernel)",
   "language": "python",
   "name": "python3"
  },
  "language_info": {
   "codemirror_mode": {
    "name": "ipython",
    "version": 3
   },
   "file_extension": ".py",
   "mimetype": "text/x-python",
   "name": "python",
   "nbconvert_exporter": "python",
   "pygments_lexer": "ipython3",
   "version": "3.10.9"
  }
 },
 "nbformat": 4,
 "nbformat_minor": 5
}
